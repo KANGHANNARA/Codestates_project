{
  "cells": [
    {
      "cell_type": "markdown",
      "metadata": {
        "id": "M-c_E-dX8TDz"
      },
      "source": [
        "## NBA 승부예측"
      ]
    },
    {
      "cell_type": "code",
      "execution_count": 1,
      "metadata": {
        "id": "A50myrQJ8TD1"
      },
      "outputs": [],
      "source": [
        "#!pip install category_encoders==2.*\n",
        "#!pip install eli5\n",
        "#!pip install pandas-profiling==2.*\n",
        "#!pip install pdpbox\n",
        "#!pip install --upgrade xgboost"
      ]
    },
    {
      "cell_type": "code",
      "execution_count": 59,
      "metadata": {
        "id": "qqfh6a_58TD2"
      },
      "outputs": [],
      "source": [
        "import pandas as pd\n",
        "import numpy as np\n",
        "import seaborn as sns\n",
        "import matplotlib.pyplot as plt\n",
        "import matplotlib.gridspec as gridspec\n",
        "import matplotlib as mpl\n",
        "import math\n",
        "from category_encoders import OrdinalEncoder, OneHotEncoder\n",
        "from sklearn.impute import SimpleImputer\n",
        "from sklearn.linear_model import LogisticRegression\n",
        "from sklearn.model_selection import GridSearchCV, RandomizedSearchCV, train_test_split\n",
        "from sklearn.pipeline import Pipeline, make_pipeline\n",
        "from sklearn.tree import DecisionTreeClassifier\n",
        "from sklearn.metrics import f1_score, classification_report, roc_curve, ConfusionMatrixDisplay, roc_auc_score, accuracy_score, plot_confusion_matrix\n",
        "from sklearn.ensemble import RandomForestClassifier\n",
        "from xgboost import XGBClassifier\n",
        "import warnings\n",
        "warnings.filterwarnings(\"ignore\")\n",
        "import eli5\n",
        "from eli5.sklearn import PermutationImportance"
      ]
    },
    {
      "cell_type": "markdown",
      "metadata": {
        "id": "3tfHtMg18TD2"
      },
      "source": [
        "# 전처리)\n"
      ]
    },
    {
      "cell_type": "markdown",
      "metadata": {},
      "source": [
        "https://www.kaggle.com/datasets/nathanlauga/nba-games\n",
        "\n",
        "캐글 nba data 2004~2022.3"
      ]
    },
    {
      "cell_type": "markdown",
      "metadata": {
        "id": "GHYAbku28TD2"
      },
      "source": [
        "https://www.nba.com/stats/help/glossary \n",
        "\n",
        "NBA 스탯정보"
      ]
    },
    {
      "cell_type": "markdown",
      "metadata": {
        "id": "k7tp3D2G8TD2"
      },
      "source": [
        "games = 게임날짜,게임ID,게임상황,홈팀 ID,어웨이팀 ID,시즌,홈팀 ID,홈팀 득점,홈팀 필드골 성공율,홈팀 자유투 성공율, 홈팀 3점 성공율,홈팀 어시스트,홈팀 리바운드,어웨이팀 ID,어웨이팀 득점,어웨이팀 필드골 성공율, 어웨이팀 자유투 성공율, 어웨이팀 3점 성공율,어웨이팀,어시스트,어웨이팀 리바운드,경기결과\n",
        "\n",
        "games_details = 게임ID,팀 ID,팀 약어,팀 연고지,선수 ID,선수 이름,스타팅포지션,코멘트(출전하지 않는 이유,부상 등),출전시간,필드골 성공,필드골 시도,필드골 비율,3점 성공,3점 시도,3점 비율,자유투 성공,자유투 시도,자유투 비율,공격리바운드,수비리바운드,총 리바운드,어시스트,스틸,블락 샷,턴오버,개인파울,총 득점,득점마진\n",
        "\n",
        "players = 선수이름,팀 ID,선수 ID,시즌\n",
        "\n",
        "ranking = 팀 ID,리그 ID (Only NBA),시즌 ID,게임날짜,컨퍼런스 (서부,동부),팀 이름,이번 시즌 게임 수,이번 시즌 승리 수,이번 시즌 패배 수,승리 비율,홈 경기 누적 결과,어웨이 경기 누적 결과,재경기\n",
        "\n",
        "teams = 리그 ID,팀 ID,최초 NBA 합류,최대 NBA 합류,약어,닉네임,창설연도,도시,경기장 이름,경기장 최대 수용인원,구단주,매니저,코치,리그제휴"
      ]
    },
    {
      "cell_type": "code",
      "execution_count": 60,
      "metadata": {
        "id": "O4z0vqAE8TD3"
      },
      "outputs": [],
      "source": [
        "# teams.csv 데이터에서 팀 ID 와 팀 약어 정보만 추출\n",
        "df_team = pd.read_csv('teams.csv')"
      ]
    },
    {
      "cell_type": "code",
      "execution_count": 61,
      "metadata": {
        "colab": {
          "base_uri": "https://localhost:8080/"
        },
        "id": "1rdkjk2G8TD3",
        "outputId": "86dd0f34-118d-4af5-8d8a-d7a17bff0f4b"
      },
      "outputs": [
        {
          "data": {
            "text/plain": [
              "Index(['LEAGUE_ID', 'TEAM_ID', 'MIN_YEAR', 'MAX_YEAR', 'ABBREVIATION',\n",
              "       'NICKNAME', 'YEARFOUNDED', 'CITY', 'ARENA', 'ARENACAPACITY', 'OWNER',\n",
              "       'GENERALMANAGER', 'HEADCOACH', 'DLEAGUEAFFILIATION'],\n",
              "      dtype='object')"
            ]
          },
          "execution_count": 61,
          "metadata": {},
          "output_type": "execute_result"
        }
      ],
      "source": [
        "df_team.columns"
      ]
    },
    {
      "cell_type": "code",
      "execution_count": 62,
      "metadata": {
        "id": "4c2l3hZT8TD3"
      },
      "outputs": [],
      "source": [
        "#팀 ID와 팀이름만 추출\n",
        "\n",
        "df_team = df_team[['TEAM_ID', 'ABBREVIATION']]"
      ]
    },
    {
      "cell_type": "code",
      "execution_count": 63,
      "metadata": {
        "id": "uyTv5jmFIM_5"
      },
      "outputs": [],
      "source": [
        "# 이전 경기 스탯으로 다음 경기의 결과를 예측해야하므로\n",
        "# 타겟값인 'HOME_TEAM_WINS'을 1행씩 내려서 시프트\n",
        "df = pd.read_csv('games.csv')\n",
        "df1 = df[df['HOME_TEAM_ID']==1610612758]\n",
        "df1['GAME_DATE_EST'] =pd.to_datetime(df1.GAME_DATE_EST)\n",
        "df1 = df1.sort_values(by='GAME_DATE_EST')\n",
        "df1 = df1.reset_index()\n",
        "del df1['index']\n",
        "df1 = df1.dropna()\n",
        "df1['PREDICT'] = df1.sort_values(by='GAME_DATE_EST', ascending=False).groupby('HOME_TEAM_ID')['HOME_TEAM_WINS'].shift(1)\n",
        "result = df1.dropna()"
      ]
    },
    {
      "cell_type": "code",
      "execution_count": 64,
      "metadata": {
        "id": "5R0ykBMKHSfQ"
      },
      "outputs": [],
      "source": [
        "# 팀별로 이전경기 스탯으로 게임 결과 예측\n",
        "for i in (1610612737, 1610612738, 1610612740, 1610612741, 1610612742,\n",
        "       1610612743, 1610612745, 1610612746, 1610612747, 1610612748,\n",
        "       1610612749, 1610612750, 1610612751, 1610612752, 1610612753,\n",
        "       1610612754, 1610612755, 1610612756, 1610612757,\n",
        "       1610612759, 1610612760, 1610612761, 1610612762, 1610612763,\n",
        "       1610612764, 1610612765, 1610612766, 1610612739, 1610612744):\n",
        "    df = pd.read_csv('games.csv')\n",
        "    df1 = df[df['HOME_TEAM_ID']== i ]\n",
        "    df1['GAME_DATE_EST'] = pd.to_datetime(df1.GAME_DATE_EST) # 'GAME_DATE_EST' datetime 타입으로 변경 (시간 순 정렬을 위함)\n",
        "    df1 = df1.sort_values(by='GAME_DATE_EST') # 정렬\n",
        "    df1 = df1.reset_index() # 인덱스 초기화\n",
        "    del df1['index'] # 인덱스 행 제거\n",
        "    df1 = df1.dropna() # 결측치 제거\n",
        "    df1['PREDICT'] = df1.sort_values(by='GAME_DATE_EST', ascending=False).groupby('HOME_TEAM_ID')['HOME_TEAM_WINS'].shift(1)\n",
        "    df1 = df1.dropna()\n",
        "    result = pd.concat([result,df1],ignore_index=True)"
      ]
    },
    {
      "cell_type": "code",
      "execution_count": 65,
      "metadata": {
        "id": "Xrh07X6E8TD4"
      },
      "outputs": [],
      "source": [
        "result = result.sort_values(by='GAME_DATE_EST')"
      ]
    },
    {
      "cell_type": "code",
      "execution_count": 66,
      "metadata": {
        "id": "3hrusFeuIShe"
      },
      "outputs": [],
      "source": [
        "result = result.reset_index()\n",
        "del result['index']"
      ]
    },
    {
      "cell_type": "code",
      "execution_count": 67,
      "metadata": {
        "id": "7d3eZhOMJX9o"
      },
      "outputs": [],
      "source": [
        "result = result.astype({'PREDICT':'int'})"
      ]
    },
    {
      "cell_type": "code",
      "execution_count": 68,
      "metadata": {},
      "outputs": [
        {
          "data": {
            "text/html": [
              "<div>\n",
              "<style scoped>\n",
              "    .dataframe tbody tr th:only-of-type {\n",
              "        vertical-align: middle;\n",
              "    }\n",
              "\n",
              "    .dataframe tbody tr th {\n",
              "        vertical-align: top;\n",
              "    }\n",
              "\n",
              "    .dataframe thead th {\n",
              "        text-align: right;\n",
              "    }\n",
              "</style>\n",
              "<table border=\"1\" class=\"dataframe\">\n",
              "  <thead>\n",
              "    <tr style=\"text-align: right;\">\n",
              "      <th></th>\n",
              "      <th>GAME_DATE_EST</th>\n",
              "      <th>GAME_ID</th>\n",
              "      <th>GAME_STATUS_TEXT</th>\n",
              "      <th>HOME_TEAM_ID</th>\n",
              "      <th>VISITOR_TEAM_ID</th>\n",
              "      <th>SEASON</th>\n",
              "      <th>TEAM_ID_home</th>\n",
              "      <th>PTS_home</th>\n",
              "      <th>FG_PCT_home</th>\n",
              "      <th>FT_PCT_home</th>\n",
              "      <th>...</th>\n",
              "      <th>REB_home</th>\n",
              "      <th>TEAM_ID_away</th>\n",
              "      <th>PTS_away</th>\n",
              "      <th>FG_PCT_away</th>\n",
              "      <th>FT_PCT_away</th>\n",
              "      <th>FG3_PCT_away</th>\n",
              "      <th>AST_away</th>\n",
              "      <th>REB_away</th>\n",
              "      <th>HOME_TEAM_WINS</th>\n",
              "      <th>PREDICT</th>\n",
              "    </tr>\n",
              "  </thead>\n",
              "  <tbody>\n",
              "    <tr>\n",
              "      <th>0</th>\n",
              "      <td>2003-10-05</td>\n",
              "      <td>10300001</td>\n",
              "      <td>Final</td>\n",
              "      <td>1610612762</td>\n",
              "      <td>1610612742</td>\n",
              "      <td>2003</td>\n",
              "      <td>1610612762</td>\n",
              "      <td>90.0</td>\n",
              "      <td>0.457</td>\n",
              "      <td>0.735</td>\n",
              "      <td>...</td>\n",
              "      <td>41.0</td>\n",
              "      <td>1610612742</td>\n",
              "      <td>85.0</td>\n",
              "      <td>0.447</td>\n",
              "      <td>0.500</td>\n",
              "      <td>0.250</td>\n",
              "      <td>20.0</td>\n",
              "      <td>38.0</td>\n",
              "      <td>1</td>\n",
              "      <td>1</td>\n",
              "    </tr>\n",
              "    <tr>\n",
              "      <th>1</th>\n",
              "      <td>2003-10-06</td>\n",
              "      <td>10300002</td>\n",
              "      <td>Final</td>\n",
              "      <td>1610612763</td>\n",
              "      <td>1610612749</td>\n",
              "      <td>2003</td>\n",
              "      <td>1610612763</td>\n",
              "      <td>105.0</td>\n",
              "      <td>0.494</td>\n",
              "      <td>0.618</td>\n",
              "      <td>...</td>\n",
              "      <td>48.0</td>\n",
              "      <td>1610612749</td>\n",
              "      <td>94.0</td>\n",
              "      <td>0.427</td>\n",
              "      <td>0.700</td>\n",
              "      <td>0.154</td>\n",
              "      <td>20.0</td>\n",
              "      <td>43.0</td>\n",
              "      <td>1</td>\n",
              "      <td>0</td>\n",
              "    </tr>\n",
              "    <tr>\n",
              "      <th>2</th>\n",
              "      <td>2003-10-07</td>\n",
              "      <td>10300009</td>\n",
              "      <td>Final</td>\n",
              "      <td>1610612758</td>\n",
              "      <td>1610612746</td>\n",
              "      <td>2003</td>\n",
              "      <td>1610612758</td>\n",
              "      <td>101.0</td>\n",
              "      <td>0.467</td>\n",
              "      <td>0.871</td>\n",
              "      <td>...</td>\n",
              "      <td>39.0</td>\n",
              "      <td>1610612746</td>\n",
              "      <td>82.0</td>\n",
              "      <td>0.368</td>\n",
              "      <td>0.609</td>\n",
              "      <td>0.364</td>\n",
              "      <td>13.0</td>\n",
              "      <td>50.0</td>\n",
              "      <td>1</td>\n",
              "      <td>1</td>\n",
              "    </tr>\n",
              "    <tr>\n",
              "      <th>3</th>\n",
              "      <td>2003-10-07</td>\n",
              "      <td>10300004</td>\n",
              "      <td>Final</td>\n",
              "      <td>1610612742</td>\n",
              "      <td>1610612753</td>\n",
              "      <td>2003</td>\n",
              "      <td>1610612742</td>\n",
              "      <td>99.0</td>\n",
              "      <td>0.488</td>\n",
              "      <td>0.667</td>\n",
              "      <td>...</td>\n",
              "      <td>52.0</td>\n",
              "      <td>1610612753</td>\n",
              "      <td>89.0</td>\n",
              "      <td>0.408</td>\n",
              "      <td>0.727</td>\n",
              "      <td>0.350</td>\n",
              "      <td>15.0</td>\n",
              "      <td>34.0</td>\n",
              "      <td>1</td>\n",
              "      <td>1</td>\n",
              "    </tr>\n",
              "    <tr>\n",
              "      <th>4</th>\n",
              "      <td>2003-10-07</td>\n",
              "      <td>10300007</td>\n",
              "      <td>Final</td>\n",
              "      <td>1610612748</td>\n",
              "      <td>1610612755</td>\n",
              "      <td>2003</td>\n",
              "      <td>1610612748</td>\n",
              "      <td>86.0</td>\n",
              "      <td>0.352</td>\n",
              "      <td>0.647</td>\n",
              "      <td>...</td>\n",
              "      <td>55.0</td>\n",
              "      <td>1610612755</td>\n",
              "      <td>79.0</td>\n",
              "      <td>0.329</td>\n",
              "      <td>0.897</td>\n",
              "      <td>0.143</td>\n",
              "      <td>7.0</td>\n",
              "      <td>44.0</td>\n",
              "      <td>1</td>\n",
              "      <td>0</td>\n",
              "    </tr>\n",
              "  </tbody>\n",
              "</table>\n",
              "<p>5 rows × 22 columns</p>\n",
              "</div>"
            ],
            "text/plain": [
              "  GAME_DATE_EST   GAME_ID GAME_STATUS_TEXT  HOME_TEAM_ID  VISITOR_TEAM_ID  \\\n",
              "0    2003-10-05  10300001            Final    1610612762       1610612742   \n",
              "1    2003-10-06  10300002            Final    1610612763       1610612749   \n",
              "2    2003-10-07  10300009            Final    1610612758       1610612746   \n",
              "3    2003-10-07  10300004            Final    1610612742       1610612753   \n",
              "4    2003-10-07  10300007            Final    1610612748       1610612755   \n",
              "\n",
              "   SEASON  TEAM_ID_home  PTS_home  FG_PCT_home  FT_PCT_home  ...  REB_home  \\\n",
              "0    2003    1610612762      90.0        0.457        0.735  ...      41.0   \n",
              "1    2003    1610612763     105.0        0.494        0.618  ...      48.0   \n",
              "2    2003    1610612758     101.0        0.467        0.871  ...      39.0   \n",
              "3    2003    1610612742      99.0        0.488        0.667  ...      52.0   \n",
              "4    2003    1610612748      86.0        0.352        0.647  ...      55.0   \n",
              "\n",
              "   TEAM_ID_away  PTS_away  FG_PCT_away  FT_PCT_away  FG3_PCT_away  AST_away  \\\n",
              "0    1610612742      85.0        0.447        0.500         0.250      20.0   \n",
              "1    1610612749      94.0        0.427        0.700         0.154      20.0   \n",
              "2    1610612746      82.0        0.368        0.609         0.364      13.0   \n",
              "3    1610612753      89.0        0.408        0.727         0.350      15.0   \n",
              "4    1610612755      79.0        0.329        0.897         0.143       7.0   \n",
              "\n",
              "   REB_away  HOME_TEAM_WINS  PREDICT  \n",
              "0      38.0               1        1  \n",
              "1      43.0               1        0  \n",
              "2      50.0               1        1  \n",
              "3      34.0               1        1  \n",
              "4      44.0               1        0  \n",
              "\n",
              "[5 rows x 22 columns]"
            ]
          },
          "execution_count": 68,
          "metadata": {},
          "output_type": "execute_result"
        }
      ],
      "source": [
        "result.head()"
      ]
    },
    {
      "cell_type": "code",
      "execution_count": 69,
      "metadata": {
        "colab": {
          "base_uri": "https://localhost:8080/"
        },
        "id": "rSKShaczIdiF",
        "outputId": "59f4e843-a58a-47b1-910c-799986c6e636"
      },
      "outputs": [
        {
          "name": "stdout",
          "output_type": "stream",
          "text": [
            "<class 'pandas.core.frame.DataFrame'>\n",
            "RangeIndex: 25667 entries, 0 to 25666\n",
            "Data columns (total 22 columns):\n",
            " #   Column            Non-Null Count  Dtype         \n",
            "---  ------            --------------  -----         \n",
            " 0   GAME_DATE_EST     25667 non-null  datetime64[ns]\n",
            " 1   GAME_ID           25667 non-null  int64         \n",
            " 2   GAME_STATUS_TEXT  25667 non-null  object        \n",
            " 3   HOME_TEAM_ID      25667 non-null  int64         \n",
            " 4   VISITOR_TEAM_ID   25667 non-null  int64         \n",
            " 5   SEASON            25667 non-null  int64         \n",
            " 6   TEAM_ID_home      25667 non-null  int64         \n",
            " 7   PTS_home          25667 non-null  float64       \n",
            " 8   FG_PCT_home       25667 non-null  float64       \n",
            " 9   FT_PCT_home       25667 non-null  float64       \n",
            " 10  FG3_PCT_home      25667 non-null  float64       \n",
            " 11  AST_home          25667 non-null  float64       \n",
            " 12  REB_home          25667 non-null  float64       \n",
            " 13  TEAM_ID_away      25667 non-null  int64         \n",
            " 14  PTS_away          25667 non-null  float64       \n",
            " 15  FG_PCT_away       25667 non-null  float64       \n",
            " 16  FT_PCT_away       25667 non-null  float64       \n",
            " 17  FG3_PCT_away      25667 non-null  float64       \n",
            " 18  AST_away          25667 non-null  float64       \n",
            " 19  REB_away          25667 non-null  float64       \n",
            " 20  HOME_TEAM_WINS    25667 non-null  int64         \n",
            " 21  PREDICT           25667 non-null  int32         \n",
            "dtypes: datetime64[ns](1), float64(12), int32(1), int64(7), object(1)\n",
            "memory usage: 4.2+ MB\n"
          ]
        }
      ],
      "source": [
        "result.info()"
      ]
    },
    {
      "cell_type": "code",
      "execution_count": 70,
      "metadata": {
        "id": "Z8_gjluAImHZ"
      },
      "outputs": [],
      "source": [
        "# 필요한 컬럼만 추출 타겟은 'HOME_TEAM_WINS'\n",
        "result= result[['HOME_TEAM_ID','VISITOR_TEAM_ID', 'SEASON', 'PTS_home', 'FG_PCT_home',\n",
        "       'FT_PCT_home', 'FG3_PCT_home', 'AST_home', 'REB_home', 'TEAM_ID_away',\n",
        "       'PTS_away', 'FG_PCT_away', 'FT_PCT_away', 'FG3_PCT_away', 'AST_away',\n",
        "       'REB_away','PREDICT']]"
      ]
    },
    {
      "cell_type": "code",
      "execution_count": 71,
      "metadata": {
        "id": "8yY5oS378TD5"
      },
      "outputs": [],
      "source": [
        "# TEAM ID 숫자를 약어로 변경\n",
        "for i in range(0,30):\n",
        "    result = result.replace(df_team['TEAM_ID'][i],df_team['ABBREVIATION'][i])"
      ]
    },
    {
      "cell_type": "code",
      "execution_count": 73,
      "metadata": {
        "id": "tTlTDaUs8TD6"
      },
      "outputs": [],
      "source": [
        "# train, val, test 를 6:2:2 나누어줌\n",
        "# test와 val 값을 최근 값으로 나누어줌\n",
        "test = result[-5000:]\n",
        "val = result[-10000:-5000]\n",
        "train = result[:-10000]"
      ]
    },
    {
      "cell_type": "code",
      "execution_count": 74,
      "metadata": {
        "colab": {
          "base_uri": "https://localhost:8080/",
          "height": 488
        },
        "id": "ydAmk3n6O2V0",
        "outputId": "c5718124-2202-48cd-abf0-a7aa3243cc56"
      },
      "outputs": [
        {
          "data": {
            "text/html": [
              "<div>\n",
              "<style scoped>\n",
              "    .dataframe tbody tr th:only-of-type {\n",
              "        vertical-align: middle;\n",
              "    }\n",
              "\n",
              "    .dataframe tbody tr th {\n",
              "        vertical-align: top;\n",
              "    }\n",
              "\n",
              "    .dataframe thead th {\n",
              "        text-align: right;\n",
              "    }\n",
              "</style>\n",
              "<table border=\"1\" class=\"dataframe\">\n",
              "  <thead>\n",
              "    <tr style=\"text-align: right;\">\n",
              "      <th></th>\n",
              "      <th>HOME_TEAM_ID</th>\n",
              "      <th>VISITOR_TEAM_ID</th>\n",
              "      <th>SEASON</th>\n",
              "      <th>PTS_home</th>\n",
              "      <th>FG_PCT_home</th>\n",
              "      <th>FT_PCT_home</th>\n",
              "      <th>FG3_PCT_home</th>\n",
              "      <th>AST_home</th>\n",
              "      <th>REB_home</th>\n",
              "      <th>TEAM_ID_away</th>\n",
              "      <th>PTS_away</th>\n",
              "      <th>FG_PCT_away</th>\n",
              "      <th>FT_PCT_away</th>\n",
              "      <th>FG3_PCT_away</th>\n",
              "      <th>AST_away</th>\n",
              "      <th>REB_away</th>\n",
              "      <th>PREDICT</th>\n",
              "    </tr>\n",
              "  </thead>\n",
              "  <tbody>\n",
              "    <tr>\n",
              "      <th>0</th>\n",
              "      <td>UTA</td>\n",
              "      <td>DAL</td>\n",
              "      <td>2003</td>\n",
              "      <td>90.0</td>\n",
              "      <td>0.457</td>\n",
              "      <td>0.735</td>\n",
              "      <td>0.143</td>\n",
              "      <td>23.0</td>\n",
              "      <td>41.0</td>\n",
              "      <td>DAL</td>\n",
              "      <td>85.0</td>\n",
              "      <td>0.447</td>\n",
              "      <td>0.500</td>\n",
              "      <td>0.250</td>\n",
              "      <td>20.0</td>\n",
              "      <td>38.0</td>\n",
              "      <td>1</td>\n",
              "    </tr>\n",
              "    <tr>\n",
              "      <th>1</th>\n",
              "      <td>MEM</td>\n",
              "      <td>MIL</td>\n",
              "      <td>2003</td>\n",
              "      <td>105.0</td>\n",
              "      <td>0.494</td>\n",
              "      <td>0.618</td>\n",
              "      <td>0.267</td>\n",
              "      <td>25.0</td>\n",
              "      <td>48.0</td>\n",
              "      <td>MIL</td>\n",
              "      <td>94.0</td>\n",
              "      <td>0.427</td>\n",
              "      <td>0.700</td>\n",
              "      <td>0.154</td>\n",
              "      <td>20.0</td>\n",
              "      <td>43.0</td>\n",
              "      <td>0</td>\n",
              "    </tr>\n",
              "    <tr>\n",
              "      <th>2</th>\n",
              "      <td>SAC</td>\n",
              "      <td>LAC</td>\n",
              "      <td>2003</td>\n",
              "      <td>101.0</td>\n",
              "      <td>0.467</td>\n",
              "      <td>0.871</td>\n",
              "      <td>0.444</td>\n",
              "      <td>19.0</td>\n",
              "      <td>39.0</td>\n",
              "      <td>LAC</td>\n",
              "      <td>82.0</td>\n",
              "      <td>0.368</td>\n",
              "      <td>0.609</td>\n",
              "      <td>0.364</td>\n",
              "      <td>13.0</td>\n",
              "      <td>50.0</td>\n",
              "      <td>1</td>\n",
              "    </tr>\n",
              "    <tr>\n",
              "      <th>3</th>\n",
              "      <td>DAL</td>\n",
              "      <td>ORL</td>\n",
              "      <td>2003</td>\n",
              "      <td>99.0</td>\n",
              "      <td>0.488</td>\n",
              "      <td>0.667</td>\n",
              "      <td>0.167</td>\n",
              "      <td>20.0</td>\n",
              "      <td>52.0</td>\n",
              "      <td>ORL</td>\n",
              "      <td>89.0</td>\n",
              "      <td>0.408</td>\n",
              "      <td>0.727</td>\n",
              "      <td>0.350</td>\n",
              "      <td>15.0</td>\n",
              "      <td>34.0</td>\n",
              "      <td>1</td>\n",
              "    </tr>\n",
              "    <tr>\n",
              "      <th>4</th>\n",
              "      <td>MIA</td>\n",
              "      <td>PHI</td>\n",
              "      <td>2003</td>\n",
              "      <td>86.0</td>\n",
              "      <td>0.352</td>\n",
              "      <td>0.647</td>\n",
              "      <td>0.222</td>\n",
              "      <td>15.0</td>\n",
              "      <td>55.0</td>\n",
              "      <td>PHI</td>\n",
              "      <td>79.0</td>\n",
              "      <td>0.329</td>\n",
              "      <td>0.897</td>\n",
              "      <td>0.143</td>\n",
              "      <td>7.0</td>\n",
              "      <td>44.0</td>\n",
              "      <td>0</td>\n",
              "    </tr>\n",
              "    <tr>\n",
              "      <th>...</th>\n",
              "      <td>...</td>\n",
              "      <td>...</td>\n",
              "      <td>...</td>\n",
              "      <td>...</td>\n",
              "      <td>...</td>\n",
              "      <td>...</td>\n",
              "      <td>...</td>\n",
              "      <td>...</td>\n",
              "      <td>...</td>\n",
              "      <td>...</td>\n",
              "      <td>...</td>\n",
              "      <td>...</td>\n",
              "      <td>...</td>\n",
              "      <td>...</td>\n",
              "      <td>...</td>\n",
              "      <td>...</td>\n",
              "      <td>...</td>\n",
              "    </tr>\n",
              "    <tr>\n",
              "      <th>15662</th>\n",
              "      <td>MIA</td>\n",
              "      <td>PHI</td>\n",
              "      <td>2014</td>\n",
              "      <td>87.0</td>\n",
              "      <td>0.413</td>\n",
              "      <td>0.722</td>\n",
              "      <td>0.308</td>\n",
              "      <td>13.0</td>\n",
              "      <td>39.0</td>\n",
              "      <td>PHI</td>\n",
              "      <td>91.0</td>\n",
              "      <td>0.429</td>\n",
              "      <td>0.741</td>\n",
              "      <td>0.263</td>\n",
              "      <td>11.0</td>\n",
              "      <td>42.0</td>\n",
              "      <td>1</td>\n",
              "    </tr>\n",
              "    <tr>\n",
              "      <th>15663</th>\n",
              "      <td>ORL</td>\n",
              "      <td>BOS</td>\n",
              "      <td>2014</td>\n",
              "      <td>100.0</td>\n",
              "      <td>0.470</td>\n",
              "      <td>0.652</td>\n",
              "      <td>0.389</td>\n",
              "      <td>23.0</td>\n",
              "      <td>45.0</td>\n",
              "      <td>BOS</td>\n",
              "      <td>95.0</td>\n",
              "      <td>0.388</td>\n",
              "      <td>0.759</td>\n",
              "      <td>0.304</td>\n",
              "      <td>22.0</td>\n",
              "      <td>45.0</td>\n",
              "      <td>0</td>\n",
              "    </tr>\n",
              "    <tr>\n",
              "      <th>15664</th>\n",
              "      <td>LAL</td>\n",
              "      <td>GSW</td>\n",
              "      <td>2014</td>\n",
              "      <td>115.0</td>\n",
              "      <td>0.517</td>\n",
              "      <td>0.647</td>\n",
              "      <td>0.462</td>\n",
              "      <td>28.0</td>\n",
              "      <td>42.0</td>\n",
              "      <td>GSW</td>\n",
              "      <td>105.0</td>\n",
              "      <td>0.464</td>\n",
              "      <td>0.882</td>\n",
              "      <td>0.462</td>\n",
              "      <td>20.0</td>\n",
              "      <td>39.0</td>\n",
              "      <td>0</td>\n",
              "    </tr>\n",
              "    <tr>\n",
              "      <th>15665</th>\n",
              "      <td>MIA</td>\n",
              "      <td>CLE</td>\n",
              "      <td>2014</td>\n",
              "      <td>101.0</td>\n",
              "      <td>0.476</td>\n",
              "      <td>0.824</td>\n",
              "      <td>0.333</td>\n",
              "      <td>27.0</td>\n",
              "      <td>43.0</td>\n",
              "      <td>CLE</td>\n",
              "      <td>91.0</td>\n",
              "      <td>0.444</td>\n",
              "      <td>0.636</td>\n",
              "      <td>0.231</td>\n",
              "      <td>16.0</td>\n",
              "      <td>37.0</td>\n",
              "      <td>0</td>\n",
              "    </tr>\n",
              "    <tr>\n",
              "      <th>15666</th>\n",
              "      <td>CHI</td>\n",
              "      <td>LAL</td>\n",
              "      <td>2014</td>\n",
              "      <td>113.0</td>\n",
              "      <td>0.488</td>\n",
              "      <td>0.760</td>\n",
              "      <td>0.417</td>\n",
              "      <td>27.0</td>\n",
              "      <td>57.0</td>\n",
              "      <td>LAL</td>\n",
              "      <td>93.0</td>\n",
              "      <td>0.391</td>\n",
              "      <td>0.762</td>\n",
              "      <td>0.313</td>\n",
              "      <td>18.0</td>\n",
              "      <td>39.0</td>\n",
              "      <td>1</td>\n",
              "    </tr>\n",
              "  </tbody>\n",
              "</table>\n",
              "<p>15667 rows × 17 columns</p>\n",
              "</div>"
            ],
            "text/plain": [
              "      HOME_TEAM_ID VISITOR_TEAM_ID  SEASON  PTS_home  FG_PCT_home  \\\n",
              "0              UTA             DAL    2003      90.0        0.457   \n",
              "1              MEM             MIL    2003     105.0        0.494   \n",
              "2              SAC             LAC    2003     101.0        0.467   \n",
              "3              DAL             ORL    2003      99.0        0.488   \n",
              "4              MIA             PHI    2003      86.0        0.352   \n",
              "...            ...             ...     ...       ...          ...   \n",
              "15662          MIA             PHI    2014      87.0        0.413   \n",
              "15663          ORL             BOS    2014     100.0        0.470   \n",
              "15664          LAL             GSW    2014     115.0        0.517   \n",
              "15665          MIA             CLE    2014     101.0        0.476   \n",
              "15666          CHI             LAL    2014     113.0        0.488   \n",
              "\n",
              "       FT_PCT_home  FG3_PCT_home  AST_home  REB_home TEAM_ID_away  PTS_away  \\\n",
              "0            0.735         0.143      23.0      41.0          DAL      85.0   \n",
              "1            0.618         0.267      25.0      48.0          MIL      94.0   \n",
              "2            0.871         0.444      19.0      39.0          LAC      82.0   \n",
              "3            0.667         0.167      20.0      52.0          ORL      89.0   \n",
              "4            0.647         0.222      15.0      55.0          PHI      79.0   \n",
              "...            ...           ...       ...       ...          ...       ...   \n",
              "15662        0.722         0.308      13.0      39.0          PHI      91.0   \n",
              "15663        0.652         0.389      23.0      45.0          BOS      95.0   \n",
              "15664        0.647         0.462      28.0      42.0          GSW     105.0   \n",
              "15665        0.824         0.333      27.0      43.0          CLE      91.0   \n",
              "15666        0.760         0.417      27.0      57.0          LAL      93.0   \n",
              "\n",
              "       FG_PCT_away  FT_PCT_away  FG3_PCT_away  AST_away  REB_away  PREDICT  \n",
              "0            0.447        0.500         0.250      20.0      38.0        1  \n",
              "1            0.427        0.700         0.154      20.0      43.0        0  \n",
              "2            0.368        0.609         0.364      13.0      50.0        1  \n",
              "3            0.408        0.727         0.350      15.0      34.0        1  \n",
              "4            0.329        0.897         0.143       7.0      44.0        0  \n",
              "...            ...          ...           ...       ...       ...      ...  \n",
              "15662        0.429        0.741         0.263      11.0      42.0        1  \n",
              "15663        0.388        0.759         0.304      22.0      45.0        0  \n",
              "15664        0.464        0.882         0.462      20.0      39.0        0  \n",
              "15665        0.444        0.636         0.231      16.0      37.0        0  \n",
              "15666        0.391        0.762         0.313      18.0      39.0        1  \n",
              "\n",
              "[15667 rows x 17 columns]"
            ]
          },
          "execution_count": 74,
          "metadata": {},
          "output_type": "execute_result"
        }
      ],
      "source": [
        "train"
      ]
    },
    {
      "cell_type": "code",
      "execution_count": 75,
      "metadata": {
        "id": "rxyuinE48TD6"
      },
      "outputs": [],
      "source": [
        "target = 'PREDICT'"
      ]
    },
    {
      "cell_type": "code",
      "execution_count": 76,
      "metadata": {
        "colab": {
          "base_uri": "https://localhost:8080/"
        },
        "id": "vVgbhrrl8TD6",
        "outputId": "f5b38c03-9a03-4d2d-c9e8-0801c3a5f411"
      },
      "outputs": [
        {
          "data": {
            "text/plain": [
              "1    9406\n",
              "0    6261\n",
              "Name: PREDICT, dtype: int64"
            ]
          },
          "execution_count": 76,
          "metadata": {},
          "output_type": "execute_result"
        }
      ],
      "source": [
        "train[target].value_counts()"
      ]
    },
    {
      "cell_type": "code",
      "execution_count": 77,
      "metadata": {
        "colab": {
          "base_uri": "https://localhost:8080/"
        },
        "id": "9YA8Pu0G8TD6",
        "outputId": "ed624408-8f8c-4a5c-8901-0e7625938aa1"
      },
      "outputs": [
        {
          "data": {
            "text/plain": [
              "((15667, 17), (5000, 17), (5000, 17))"
            ]
          },
          "execution_count": 77,
          "metadata": {},
          "output_type": "execute_result"
        }
      ],
      "source": [
        "train.shape , val.shape , test.shape"
      ]
    },
    {
      "cell_type": "markdown",
      "metadata": {
        "id": "O0Y_vmW-8TD6"
      },
      "source": [
        "#### 시계열 데이터('GAME_DATE_EST')이기 때문에 Hold out 으로 진행\n",
        "#### 최근 데이터가 test,val데이터기 때문에 Hold out 으로 진행\n",
        "#### Cross validation 방법은 시계열 데이터에 부적합"
      ]
    },
    {
      "cell_type": "code",
      "execution_count": 78,
      "metadata": {
        "id": "Q2D7z3li8TD7"
      },
      "outputs": [],
      "source": [
        "features = train.drop(columns=[target]).columns"
      ]
    },
    {
      "cell_type": "code",
      "execution_count": 79,
      "metadata": {
        "id": "UIcRQKcc8TD7"
      },
      "outputs": [],
      "source": [
        "X_train = train[features]\n",
        "y_train = train[target]\n",
        "\n",
        "X_val = val[features]\n",
        "y_val = val[target]\n",
        "\n",
        "X_test = test[features]\n",
        "y_test = test[target]"
      ]
    },
    {
      "cell_type": "markdown",
      "metadata": {
        "id": "ScqPRcDZ8TD7"
      },
      "source": [
        "##### 방법1) 결정트리\n",
        "##### 방법2) 랜덤포레스트\n",
        "##### 방법3) xgboost"
      ]
    },
    {
      "cell_type": "markdown",
      "metadata": {},
      "source": [
        "##### 기준모델"
      ]
    },
    {
      "cell_type": "code",
      "execution_count": 80,
      "metadata": {},
      "outputs": [],
      "source": [
        "# mode(): Return the highest frequency value in a Series.\n",
        "major = y_train.mode()[0]\n",
        "\n",
        "# 타겟 샘플 수 만큼 0이 담긴 리스트를 만듭니다. 기준모델로 예측\n",
        "y_pred_nor = [major] * len(y_train)"
      ]
    },
    {
      "cell_type": "code",
      "execution_count": 81,
      "metadata": {},
      "outputs": [
        {
          "name": "stdout",
          "output_type": "stream",
          "text": [
            "training accuracy:  0.6003702048892576\n"
          ]
        }
      ],
      "source": [
        "print(\"training accuracy: \", accuracy_score(y_train, y_pred_nor))"
      ]
    },
    {
      "cell_type": "markdown",
      "metadata": {
        "id": "IclH5Oei-U7x"
      },
      "source": [
        "### 1)결정트리"
      ]
    },
    {
      "cell_type": "code",
      "execution_count": 82,
      "metadata": {
        "colab": {
          "base_uri": "https://localhost:8080/"
        },
        "id": "GaOFvi3t8TD7",
        "outputId": "c63dd58a-d2ab-4453-fa7f-d9e976d590e0"
      },
      "outputs": [
        {
          "data": {
            "text/plain": [
              "Pipeline(steps=[('onehotencoder',\n",
              "                 OneHotEncoder(cols=['HOME_TEAM_ID', 'VISITOR_TEAM_ID',\n",
              "                                     'TEAM_ID_away'],\n",
              "                               use_cat_names=True)),\n",
              "                ('simpleimputer', SimpleImputer()),\n",
              "                ('decisiontreeclassifier',\n",
              "                 DecisionTreeClassifier(criterion='entropy', random_state=2))])"
            ]
          },
          "execution_count": 82,
          "metadata": {},
          "output_type": "execute_result"
        }
      ],
      "source": [
        "pipe_tree = make_pipeline(\n",
        "    OneHotEncoder(use_cat_names=True), \n",
        "    SimpleImputer(), \n",
        "    DecisionTreeClassifier(random_state=2, criterion='entropy')\n",
        ")\n",
        "\n",
        "pipe_tree.fit(X_train, y_train)"
      ]
    },
    {
      "cell_type": "code",
      "execution_count": 83,
      "metadata": {
        "colab": {
          "base_uri": "https://localhost:8080/"
        },
        "id": "nU02J2ut8TD7",
        "outputId": "acbb3825-1db3-47c2-9b11-1d4dee51cd53"
      },
      "outputs": [
        {
          "name": "stdout",
          "output_type": "stream",
          "text": [
            "훈련 정확도 1.0\n",
            "검증 정확도 0.5162\n"
          ]
        }
      ],
      "source": [
        "print('훈련 정확도', pipe_tree.score(X_train, y_train))\n",
        "print('검증 정확도', pipe_tree.score(X_val, y_val))"
      ]
    },
    {
      "cell_type": "markdown",
      "metadata": {
        "id": "ydDEmt7v9qVY"
      },
      "source": [
        "#### 과적합 문제"
      ]
    },
    {
      "cell_type": "code",
      "execution_count": 84,
      "metadata": {
        "colab": {
          "base_uri": "https://localhost:8080/"
        },
        "id": "UXQtx1xH8TD7",
        "outputId": "14f44bcc-6940-4a30-cf96-8903ae3bc39a"
      },
      "outputs": [
        {
          "data": {
            "text/plain": [
              "1    0.5866\n",
              "0    0.4134\n",
              "Name: PREDICT, dtype: float64"
            ]
          },
          "execution_count": 84,
          "metadata": {},
          "output_type": "execute_result"
        }
      ],
      "source": [
        "y_val.value_counts(normalize=True)"
      ]
    },
    {
      "cell_type": "code",
      "execution_count": 85,
      "metadata": {
        "colab": {
          "base_uri": "https://localhost:8080/"
        },
        "id": "5pjuFaku8TD7",
        "outputId": "a4363733-5939-482d-e4ef-fc9c3b82be2d"
      },
      "outputs": [
        {
          "name": "stdout",
          "output_type": "stream",
          "text": [
            "훈련 정확도 0.7776855811578477\n",
            "검증 정확도 0.5202\n",
            "테스트 정확도 0.5238\n"
          ]
        }
      ],
      "source": [
        "# min_samples_leaf 사용\n",
        "\n",
        "pipe_tree_2 = make_pipeline(\n",
        "    OneHotEncoder(use_cat_names=True), \n",
        "    SimpleImputer(), \n",
        "    DecisionTreeClassifier(min_samples_leaf=10, random_state=2)\n",
        ")\n",
        "\n",
        "pipe_tree_2.fit(X_train, y_train)\n",
        "print('훈련 정확도', pipe_tree_2.score(X_train, y_train))\n",
        "print('검증 정확도', pipe_tree_2.score(X_val, y_val))\n",
        "print('테스트 정확도', pipe_tree_2.score(X_test, y_test))"
      ]
    },
    {
      "cell_type": "code",
      "execution_count": 86,
      "metadata": {
        "colab": {
          "base_uri": "https://localhost:8080/"
        },
        "id": "Vj22x4YH8TD7",
        "outputId": "05db80b5-4fa5-4fb1-afb3-dbfa3a3d6851"
      },
      "outputs": [
        {
          "name": "stdout",
          "output_type": "stream",
          "text": [
            "훈련 정확도 0.6105189251292525\n",
            "검증 정확도 0.5822\n",
            "테스트 정확도 0.561\n"
          ]
        }
      ],
      "source": [
        "# max_depth 사용\n",
        "\n",
        "pipe_tree_3 = make_pipeline(\n",
        "    OneHotEncoder(use_cat_names=True), \n",
        "    SimpleImputer(), \n",
        "    DecisionTreeClassifier(max_depth=6, random_state=2)\n",
        ")\n",
        "\n",
        "pipe_tree_3.fit(X_train, y_train)\n",
        "print('훈련 정확도', pipe_tree_3.score(X_train, y_train))\n",
        "print('검증 정확도', pipe_tree_3.score(X_val, y_val))\n",
        "print('테스트 정확도', pipe_tree_3.score(X_test, y_test))"
      ]
    },
    {
      "cell_type": "markdown",
      "metadata": {
        "id": "1GO0Mf0Y-Tcn"
      },
      "source": [
        "### 2) 랜덤포레스트"
      ]
    },
    {
      "cell_type": "code",
      "execution_count": 87,
      "metadata": {
        "colab": {
          "base_uri": "https://localhost:8080/"
        },
        "id": "7Zq_OEIT8TD7",
        "outputId": "bb61bddb-ac2c-42a6-dc94-3f7c47632cf3"
      },
      "outputs": [
        {
          "name": "stdout",
          "output_type": "stream",
          "text": [
            "훈련 정확도 1.0\n",
            "검증 정확도 0.5684\n",
            "테스트 정확도 0.5554\n"
          ]
        }
      ],
      "source": [
        "pipe_random = make_pipeline(\n",
        "    OrdinalEncoder(), \n",
        "    SimpleImputer(), \n",
        "    RandomForestClassifier(n_estimators=5000,n_jobs=-1, random_state=10, oob_score=True)\n",
        ")\n",
        "\n",
        "pipe_random.fit(X_train, y_train)\n",
        "print('훈련 정확도', pipe_random.score(X_train, y_train))\n",
        "print('검증 정확도', pipe_random.score(X_val, y_val))\n",
        "print('테스트 정확도', pipe_random.score(X_test, y_test))"
      ]
    },
    {
      "cell_type": "code",
      "execution_count": 88,
      "metadata": {
        "colab": {
          "base_uri": "https://localhost:8080/",
          "height": 336
        },
        "id": "uuucnRGp_TCs",
        "outputId": "ed6f756f-a8cc-4e22-c03d-2a3e48098685"
      },
      "outputs": [
        {
          "data": {
            "image/png": "[encoded data removed]",
            "text/plain": [
              "<Figure size 1000x500 with 1 Axes>"
            ]
          },
          "metadata": {},
          "output_type": "display_data"
        }
      ],
      "source": [
        "n = 10\n",
        "rf_random = pipe_random.named_steps['randomforestclassifier']\n",
        "importances_random = pd.Series(rf_random.feature_importances_, X_train.columns)\n",
        "# %matplotlib inline\n",
        "plt.figure(figsize=(10,n/2))\n",
        "plt.title(f'Top {n} features with randomforestclassifier')\n",
        "importances_random.sort_values()[-n:].plot.barh();"
      ]
    },
    {
      "cell_type": "code",
      "execution_count": 89,
      "metadata": {},
      "outputs": [],
      "source": [
        "pipe_rm = Pipeline([\n",
        "    ('preprocessing', make_pipeline(OrdinalEncoder(), SimpleImputer())),\n",
        "    ('rf', RandomForestClassifier(n_estimators=5000, random_state=2, n_jobs=-1)) \n",
        "])"
      ]
    },
    {
      "cell_type": "code",
      "execution_count": 90,
      "metadata": {},
      "outputs": [
        {
          "name": "stdout",
          "output_type": "stream",
          "text": [
            "검증 정확도:  0.5662\n"
          ]
        }
      ],
      "source": [
        "pipe_rm.fit(X_train, y_train)\n",
        "print('검증 정확도: ', pipe_rm.score(X_val, y_val))"
      ]
    },
    {
      "cell_type": "code",
      "execution_count": 91,
      "metadata": {},
      "outputs": [],
      "source": [
        "# permuter 정의\n",
        "permuter = PermutationImportance(\n",
        "    pipe_rm.named_steps['rf'], # model\n",
        "    scoring='accuracy', # metric\n",
        "    n_iter=5, # 다른 random seed를 사용하여 5번 반복\n",
        "    random_state=2\n",
        ")\n",
        "\n",
        "# permuter 계산은 preprocessing 된 X_val을 사용합니다.\n",
        "X_val_transformed = pipe_rm.named_steps['preprocessing'].transform(X_val)\n",
        "\n",
        "# 실제로 fit 의미보다는 스코어를 다시 계산하는 작업입니다\n",
        "permuter.fit(X_val_transformed, y_val);"
      ]
    },
    {
      "cell_type": "code",
      "execution_count": 92,
      "metadata": {},
      "outputs": [
        {
          "data": {
            "text/plain": [
              "FG_PCT_away       -0.00916\n",
              "FT_PCT_home       -0.00772\n",
              "REB_home          -0.00628\n",
              "AST_away          -0.00572\n",
              "TEAM_ID_away      -0.00560\n",
              "VISITOR_TEAM_ID   -0.00528\n",
              "FT_PCT_away       -0.00504\n",
              "REB_away          -0.00352\n",
              "AST_home          -0.00316\n",
              "FG_PCT_home       -0.00168\n",
              "FG3_PCT_away      -0.00112\n",
              "FG3_PCT_home      -0.00092\n",
              "HOME_TEAM_ID      -0.00084\n",
              "PTS_away          -0.00016\n",
              "SEASON             0.00000\n",
              "PTS_home           0.00200\n",
              "dtype: float64"
            ]
          },
          "execution_count": 92,
          "metadata": {},
          "output_type": "execute_result"
        }
      ],
      "source": [
        "feature_names = X_val.columns.tolist()\n",
        "pd.Series(permuter.feature_importances_, feature_names).sort_values()"
      ]
    },
    {
      "cell_type": "code",
      "execution_count": 93,
      "metadata": {},
      "outputs": [
        {
          "data": {
            "text/html": [
              "\n",
              "    <style>\n",
              "    table.eli5-weights tr:hover {\n",
              "        filter: brightness(85%);\n",
              "    }\n",
              "</style>\n",
              "\n",
              "\n",
              "\n",
              "    \n",
              "\n",
              "    \n",
              "\n",
              "    \n",
              "\n",
              "    \n",
              "\n",
              "    \n",
              "\n",
              "    \n",
              "\n",
              "\n",
              "    \n",
              "\n",
              "    \n",
              "\n",
              "    \n",
              "\n",
              "    \n",
              "\n",
              "    \n",
              "\n",
              "    \n",
              "\n",
              "\n",
              "    \n",
              "\n",
              "    \n",
              "\n",
              "    \n",
              "\n",
              "    \n",
              "\n",
              "    \n",
              "        <table class=\"eli5-weights eli5-feature-importances\" style=\"border-collapse: collapse; border: none; margin-top: 0em; table-layout: auto;\">\n",
              "    <thead>\n",
              "    <tr style=\"border: none;\">\n",
              "        <th style=\"padding: 0 1em 0 0.5em; text-align: right; border: none;\">Weight</th>\n",
              "        <th style=\"padding: 0 0.5em 0 0.5em; text-align: left; border: none;\">Feature</th>\n",
              "    </tr>\n",
              "    </thead>\n",
              "    <tbody>\n",
              "    \n",
              "        <tr style=\"background-color: hsl(120, 100.00%, 93.11%); border: none;\">\n",
              "            <td style=\"padding: 0 1em 0 0.5em; text-align: right; border: none;\">\n",
              "                0.0020\n",
              "                \n",
              "                    &plusmn; 0.0076\n",
              "                \n",
              "            </td>\n",
              "            <td style=\"padding: 0 0.5em 0 0.5em; text-align: left; border: none;\">\n",
              "                PTS_home\n",
              "            </td>\n",
              "        </tr>\n",
              "    \n",
              "        <tr style=\"background-color: hsl(0, 100.00%, 100.00%); border: none;\">\n",
              "            <td style=\"padding: 0 1em 0 0.5em; text-align: right; border: none;\">\n",
              "                0\n",
              "                \n",
              "                    &plusmn; 0.0000\n",
              "                \n",
              "            </td>\n",
              "            <td style=\"padding: 0 0.5em 0 0.5em; text-align: left; border: none;\">\n",
              "                SEASON\n",
              "            </td>\n",
              "        </tr>\n",
              "    \n",
              "        <tr style=\"background-color: hsl(0, 100.00%, 98.82%); border: none;\">\n",
              "            <td style=\"padding: 0 1em 0 0.5em; text-align: right; border: none;\">\n",
              "                -0.0002\n",
              "                \n",
              "                    &plusmn; 0.0047\n",
              "                \n",
              "            </td>\n",
              "            <td style=\"padding: 0 0.5em 0 0.5em; text-align: left; border: none;\">\n",
              "                PTS_away\n",
              "            </td>\n",
              "        </tr>\n",
              "    \n",
              "        <tr style=\"background-color: hsl(0, 100.00%, 96.24%); border: none;\">\n",
              "            <td style=\"padding: 0 1em 0 0.5em; text-align: right; border: none;\">\n",
              "                -0.0008\n",
              "                \n",
              "                    &plusmn; 0.0055\n",
              "                \n",
              "            </td>\n",
              "            <td style=\"padding: 0 0.5em 0 0.5em; text-align: left; border: none;\">\n",
              "                HOME_TEAM_ID\n",
              "            </td>\n",
              "        </tr>\n",
              "    \n",
              "        <tr style=\"background-color: hsl(0, 100.00%, 96.00%); border: none;\">\n",
              "            <td style=\"padding: 0 1em 0 0.5em; text-align: right; border: none;\">\n",
              "                -0.0009\n",
              "                \n",
              "                    &plusmn; 0.0064\n",
              "                \n",
              "            </td>\n",
              "            <td style=\"padding: 0 0.5em 0 0.5em; text-align: left; border: none;\">\n",
              "                FG3_PCT_home\n",
              "            </td>\n",
              "        </tr>\n",
              "    \n",
              "        <tr style=\"background-color: hsl(0, 100.00%, 95.41%); border: none;\">\n",
              "            <td style=\"padding: 0 1em 0 0.5em; text-align: right; border: none;\">\n",
              "                -0.0011\n",
              "                \n",
              "                    &plusmn; 0.0063\n",
              "                \n",
              "            </td>\n",
              "            <td style=\"padding: 0 0.5em 0 0.5em; text-align: left; border: none;\">\n",
              "                FG3_PCT_away\n",
              "            </td>\n",
              "        </tr>\n",
              "    \n",
              "        <tr style=\"background-color: hsl(0, 100.00%, 93.90%); border: none;\">\n",
              "            <td style=\"padding: 0 1em 0 0.5em; text-align: right; border: none;\">\n",
              "                -0.0017\n",
              "                \n",
              "                    &plusmn; 0.0061\n",
              "                \n",
              "            </td>\n",
              "            <td style=\"padding: 0 0.5em 0 0.5em; text-align: left; border: none;\">\n",
              "                FG_PCT_home\n",
              "            </td>\n",
              "        </tr>\n",
              "    \n",
              "        <tr style=\"background-color: hsl(0, 100.00%, 90.51%); border: none;\">\n",
              "            <td style=\"padding: 0 1em 0 0.5em; text-align: right; border: none;\">\n",
              "                -0.0032\n",
              "                \n",
              "                    &plusmn; 0.0016\n",
              "                \n",
              "            </td>\n",
              "            <td style=\"padding: 0 0.5em 0 0.5em; text-align: left; border: none;\">\n",
              "                AST_home\n",
              "            </td>\n",
              "        </tr>\n",
              "    \n",
              "        <tr style=\"background-color: hsl(0, 100.00%, 89.76%); border: none;\">\n",
              "            <td style=\"padding: 0 1em 0 0.5em; text-align: right; border: none;\">\n",
              "                -0.0035\n",
              "                \n",
              "                    &plusmn; 0.0043\n",
              "                \n",
              "            </td>\n",
              "            <td style=\"padding: 0 0.5em 0 0.5em; text-align: left; border: none;\">\n",
              "                REB_away\n",
              "            </td>\n",
              "        </tr>\n",
              "    \n",
              "        <tr style=\"background-color: hsl(0, 100.00%, 86.84%); border: none;\">\n",
              "            <td style=\"padding: 0 1em 0 0.5em; text-align: right; border: none;\">\n",
              "                -0.0050\n",
              "                \n",
              "                    &plusmn; 0.0034\n",
              "                \n",
              "            </td>\n",
              "            <td style=\"padding: 0 0.5em 0 0.5em; text-align: left; border: none;\">\n",
              "                FT_PCT_away\n",
              "            </td>\n",
              "        </tr>\n",
              "    \n",
              "        <tr style=\"background-color: hsl(0, 100.00%, 86.40%); border: none;\">\n",
              "            <td style=\"padding: 0 1em 0 0.5em; text-align: right; border: none;\">\n",
              "                -0.0053\n",
              "                \n",
              "                    &plusmn; 0.0041\n",
              "                \n",
              "            </td>\n",
              "            <td style=\"padding: 0 0.5em 0 0.5em; text-align: left; border: none;\">\n",
              "                VISITOR_TEAM_ID\n",
              "            </td>\n",
              "        </tr>\n",
              "    \n",
              "        <tr style=\"background-color: hsl(0, 100.00%, 85.83%); border: none;\">\n",
              "            <td style=\"padding: 0 1em 0 0.5em; text-align: right; border: none;\">\n",
              "                -0.0056\n",
              "                \n",
              "                    &plusmn; 0.0029\n",
              "                \n",
              "            </td>\n",
              "            <td style=\"padding: 0 0.5em 0 0.5em; text-align: left; border: none;\">\n",
              "                TEAM_ID_away\n",
              "            </td>\n",
              "        </tr>\n",
              "    \n",
              "        <tr style=\"background-color: hsl(0, 100.00%, 85.62%); border: none;\">\n",
              "            <td style=\"padding: 0 1em 0 0.5em; text-align: right; border: none;\">\n",
              "                -0.0057\n",
              "                \n",
              "                    &plusmn; 0.0039\n",
              "                \n",
              "            </td>\n",
              "            <td style=\"padding: 0 0.5em 0 0.5em; text-align: left; border: none;\">\n",
              "                AST_away\n",
              "            </td>\n",
              "        </tr>\n",
              "    \n",
              "        <tr style=\"background-color: hsl(0, 100.00%, 84.64%); border: none;\">\n",
              "            <td style=\"padding: 0 1em 0 0.5em; text-align: right; border: none;\">\n",
              "                -0.0063\n",
              "                \n",
              "                    &plusmn; 0.0059\n",
              "                \n",
              "            </td>\n",
              "            <td style=\"padding: 0 0.5em 0 0.5em; text-align: left; border: none;\">\n",
              "                REB_home\n",
              "            </td>\n",
              "        </tr>\n",
              "    \n",
              "        <tr style=\"background-color: hsl(0, 100.00%, 82.26%); border: none;\">\n",
              "            <td style=\"padding: 0 1em 0 0.5em; text-align: right; border: none;\">\n",
              "                -0.0077\n",
              "                \n",
              "                    &plusmn; 0.0066\n",
              "                \n",
              "            </td>\n",
              "            <td style=\"padding: 0 0.5em 0 0.5em; text-align: left; border: none;\">\n",
              "                FT_PCT_home\n",
              "            </td>\n",
              "        </tr>\n",
              "    \n",
              "        <tr style=\"background-color: hsl(0, 100.00%, 80.00%); border: none;\">\n",
              "            <td style=\"padding: 0 1em 0 0.5em; text-align: right; border: none;\">\n",
              "                -0.0092\n",
              "                \n",
              "                    &plusmn; 0.0043\n",
              "                \n",
              "            </td>\n",
              "            <td style=\"padding: 0 0.5em 0 0.5em; text-align: left; border: none;\">\n",
              "                FG_PCT_away\n",
              "            </td>\n",
              "        </tr>\n",
              "    \n",
              "    \n",
              "    </tbody>\n",
              "</table>\n",
              "    \n",
              "\n",
              "    \n",
              "\n",
              "\n",
              "    \n",
              "\n",
              "    \n",
              "\n",
              "    \n",
              "\n",
              "    \n",
              "\n",
              "    \n",
              "\n",
              "    \n",
              "\n",
              "\n",
              "\n"
            ],
            "text/plain": [
              "<IPython.core.display.HTML object>"
            ]
          },
          "execution_count": 93,
          "metadata": {},
          "output_type": "execute_result"
        }
      ],
      "source": [
        "# 특성별 score 확인\n",
        "eli5.show_weights(\n",
        "    permuter, \n",
        "    top=None, # top n 지정 가능, None 일 경우 모든 특성 \n",
        "    feature_names=feature_names # list 형식으로 넣어야 합니다\n",
        ")"
      ]
    },
    {
      "cell_type": "markdown",
      "metadata": {},
      "source": [
        "1. 홈팀의 전날 승리가 다음 경기에도 영향이 미치는가?\n",
        "반반이며 영향이 미칠 수도 있고 아닐 수도 있다.\n",
        "모델 또는 데이터 EDA가 쓰레기라는 의미라고 할 수 있습니다..\n",
        "\n",
        "2. 전날 홈팀의 점수가 높다면 다음 경기에서도 홈팀이 이길확률이 높을까?\n",
        "이거는 어느정도 Feature importance를 보면 홈팀의 점수가 관련성이 있다고 할 수 있다고 말할 수 있지만\n",
        "관련 weight가 높지 않은 것으로 보아 많은 관련성이 있다고 보기는 힘들 것 같습니다..\n",
        "\n",
        "일단은 계속 진행해보겠습니다.."
      ]
    },
    {
      "cell_type": "code",
      "execution_count": 94,
      "metadata": {
        "colab": {
          "base_uri": "https://localhost:8080/",
          "height": 297
        },
        "id": "VxK7T5DNAH33",
        "outputId": "0bcb93c0-03d3-48ab-a279-b3d07f3a20af"
      },
      "outputs": [
        {
          "data": {
            "image/png": "[encoded data removed]",
            "text/plain": [
              "<Figure size 640x480 with 2 Axes>"
            ]
          },
          "metadata": {},
          "output_type": "display_data"
        }
      ],
      "source": [
        "fig, ax = plt.subplots()\n",
        "pcm = plot_confusion_matrix(pipe_random, X_val, y_val,\n",
        "                            cmap=plt.cm.Blues,\n",
        "                            ax=ax);\n",
        "plt.title(f'Confusion matrix, n = {len(y_val)}', fontsize=15)\n",
        "plt.show()"
      ]
    },
    {
      "cell_type": "code",
      "execution_count": 95,
      "metadata": {
        "colab": {
          "base_uri": "https://localhost:8080/"
        },
        "id": "vg7mHj8dAHlB",
        "outputId": "85bad926-52df-42bd-94ca-dce8e63a5f0b"
      },
      "outputs": [
        {
          "name": "stdout",
          "output_type": "stream",
          "text": [
            "검증 정확도:  0.5684\n",
            "              precision    recall  f1-score   support\n",
            "\n",
            "           0       0.45      0.21      0.29      2067\n",
            "           1       0.60      0.82      0.69      2933\n",
            "\n",
            "    accuracy                           0.57      5000\n",
            "   macro avg       0.52      0.52      0.49      5000\n",
            "weighted avg       0.54      0.57      0.52      5000\n",
            "\n"
          ]
        }
      ],
      "source": [
        "y_pred = pipe_random.predict(X_val)\n",
        "print('검증 정확도: ', accuracy_score(y_val, y_pred))\n",
        "\n",
        "print(classification_report(y_val, y_pred))"
      ]
    },
    {
      "cell_type": "code",
      "execution_count": 96,
      "metadata": {},
      "outputs": [
        {
          "name": "stdout",
          "output_type": "stream",
          "text": [
            "테스트 정확도:  0.5554\n",
            "              precision    recall  f1-score   support\n",
            "\n",
            "           0       0.20      0.49      0.29       917\n",
            "           1       0.83      0.57      0.68      4083\n",
            "\n",
            "    accuracy                           0.56      5000\n",
            "   macro avg       0.52      0.53      0.48      5000\n",
            "weighted avg       0.72      0.56      0.61      5000\n",
            "\n"
          ]
        }
      ],
      "source": [
        "y_pred = pipe_random.predict(X_test)\n",
        "print('테스트 정확도: ', accuracy_score(y_test, y_pred))\n",
        "\n",
        "print(classification_report(y_pred, y_test))"
      ]
    },
    {
      "cell_type": "code",
      "execution_count": 97,
      "metadata": {
        "colab": {
          "base_uri": "https://localhost:8080/",
          "height": 369
        },
        "id": "LJrF5iKbAHiF",
        "outputId": "359024a5-7769-4492-ac43-9fc45a3d297b"
      },
      "outputs": [
        {
          "data": {
            "image/png": "[encoded data removed]",
            "text/plain": [
              "<Figure size 500x500 with 1 Axes>"
            ]
          },
          "metadata": {},
          "output_type": "display_data"
        }
      ],
      "source": [
        "y_pred_proba = pipe_random.predict_proba(X_val)[:, 1]\n",
        "sns.displot(y_pred_proba);"
      ]
    },
    {
      "cell_type": "code",
      "execution_count": 98,
      "metadata": {
        "colab": {
          "base_uri": "https://localhost:8080/",
          "height": 1000
        },
        "id": "bufUhGFpAzW5",
        "outputId": "c598801d-3134-4755-b7f1-b0b765498663"
      },
      "outputs": [
        {
          "data": {
            "text/html": [
              "<div>\n",
              "<style scoped>\n",
              "    .dataframe tbody tr th:only-of-type {\n",
              "        vertical-align: middle;\n",
              "    }\n",
              "\n",
              "    .dataframe tbody tr th {\n",
              "        vertical-align: top;\n",
              "    }\n",
              "\n",
              "    .dataframe thead th {\n",
              "        text-align: right;\n",
              "    }\n",
              "</style>\n",
              "<table border=\"1\" class=\"dataframe\">\n",
              "  <thead>\n",
              "    <tr style=\"text-align: right;\">\n",
              "      <th></th>\n",
              "      <th>FPR(Fall-out)</th>\n",
              "      <th>TPRate(Recall)</th>\n",
              "      <th>Threshold</th>\n",
              "    </tr>\n",
              "  </thead>\n",
              "  <tbody>\n",
              "    <tr>\n",
              "      <th>0</th>\n",
              "      <td>0.000000</td>\n",
              "      <td>0.000000</td>\n",
              "      <td>1.8098</td>\n",
              "    </tr>\n",
              "    <tr>\n",
              "      <th>1</th>\n",
              "      <td>0.000000</td>\n",
              "      <td>0.000341</td>\n",
              "      <td>0.8098</td>\n",
              "    </tr>\n",
              "    <tr>\n",
              "      <th>2</th>\n",
              "      <td>0.000000</td>\n",
              "      <td>0.001023</td>\n",
              "      <td>0.7600</td>\n",
              "    </tr>\n",
              "    <tr>\n",
              "      <th>3</th>\n",
              "      <td>0.000000</td>\n",
              "      <td>0.001705</td>\n",
              "      <td>0.7552</td>\n",
              "    </tr>\n",
              "    <tr>\n",
              "      <th>4</th>\n",
              "      <td>0.000000</td>\n",
              "      <td>0.003409</td>\n",
              "      <td>0.7502</td>\n",
              "    </tr>\n",
              "    <tr>\n",
              "      <th>...</th>\n",
              "      <td>...</td>\n",
              "      <td>...</td>\n",
              "      <td>...</td>\n",
              "    </tr>\n",
              "    <tr>\n",
              "      <th>1207</th>\n",
              "      <td>0.998549</td>\n",
              "      <td>0.999318</td>\n",
              "      <td>0.3712</td>\n",
              "    </tr>\n",
              "    <tr>\n",
              "      <th>1208</th>\n",
              "      <td>0.998549</td>\n",
              "      <td>0.999659</td>\n",
              "      <td>0.3686</td>\n",
              "    </tr>\n",
              "    <tr>\n",
              "      <th>1209</th>\n",
              "      <td>0.999032</td>\n",
              "      <td>0.999659</td>\n",
              "      <td>0.3612</td>\n",
              "    </tr>\n",
              "    <tr>\n",
              "      <th>1210</th>\n",
              "      <td>0.999032</td>\n",
              "      <td>1.000000</td>\n",
              "      <td>0.3558</td>\n",
              "    </tr>\n",
              "    <tr>\n",
              "      <th>1211</th>\n",
              "      <td>1.000000</td>\n",
              "      <td>1.000000</td>\n",
              "      <td>0.3334</td>\n",
              "    </tr>\n",
              "  </tbody>\n",
              "</table>\n",
              "<p>1212 rows × 3 columns</p>\n",
              "</div>"
            ],
            "text/plain": [
              "      FPR(Fall-out)  TPRate(Recall)  Threshold\n",
              "0          0.000000        0.000000     1.8098\n",
              "1          0.000000        0.000341     0.8098\n",
              "2          0.000000        0.001023     0.7600\n",
              "3          0.000000        0.001705     0.7552\n",
              "4          0.000000        0.003409     0.7502\n",
              "...             ...             ...        ...\n",
              "1207       0.998549        0.999318     0.3712\n",
              "1208       0.998549        0.999659     0.3686\n",
              "1209       0.999032        0.999659     0.3612\n",
              "1210       0.999032        1.000000     0.3558\n",
              "1211       1.000000        1.000000     0.3334\n",
              "\n",
              "[1212 rows x 3 columns]"
            ]
          },
          "execution_count": 98,
          "metadata": {},
          "output_type": "execute_result"
        }
      ],
      "source": [
        "# roc_curve(타겟값, prob of 1)\n",
        "fpr, tpr, thresholds = roc_curve(y_val, y_pred_proba)\n",
        "\n",
        "roc = pd.DataFrame({\n",
        "    'FPR(Fall-out)': fpr, \n",
        "    'TPRate(Recall)': tpr, \n",
        "    'Threshold': thresholds\n",
        "})\n",
        "roc"
      ]
    },
    {
      "cell_type": "code",
      "execution_count": 99,
      "metadata": {
        "colab": {
          "base_uri": "https://localhost:8080/"
        },
        "id": "bEtVLqF9Bw2R",
        "outputId": "67b5a0f6-a8d0-499a-a79c-9a78c3876dee"
      },
      "outputs": [
        {
          "name": "stdout",
          "output_type": "stream",
          "text": [
            "idx: 505 , threshold: 0.5806\n"
          ]
        }
      ],
      "source": [
        "# threshold 최대값의 인덱스, np.argmax()\n",
        "optimal_idx = np.argmax(tpr - fpr)\n",
        "optimal_threshold = thresholds[optimal_idx]\n",
        "\n",
        "print('idx:', optimal_idx, ', threshold:', optimal_threshold)\n"
      ]
    },
    {
      "cell_type": "code",
      "execution_count": 100,
      "metadata": {
        "colab": {
          "base_uri": "https://localhost:8080/"
        },
        "id": "k9WI5i9-By8S",
        "outputId": "6e8d1f6b-2fe3-47c0-cdc9-86d91aa5f967"
      },
      "outputs": [
        {
          "name": "stdout",
          "output_type": "stream",
          "text": [
            "              precision    recall  f1-score   support\n",
            "\n",
            "           0       0.45      0.70      0.54      2067\n",
            "           1       0.65      0.39      0.48      2933\n",
            "\n",
            "    accuracy                           0.52      5000\n",
            "   macro avg       0.55      0.54      0.51      5000\n",
            "weighted avg       0.56      0.52      0.51      5000\n",
            "\n"
          ]
        }
      ],
      "source": [
        "y_pred_optimal = y_pred_proba >= optimal_threshold\n",
        "print(classification_report(y_val, y_pred_optimal))"
      ]
    },
    {
      "cell_type": "code",
      "execution_count": 101,
      "metadata": {
        "colab": {
          "base_uri": "https://localhost:8080/"
        },
        "id": "3CLRryHUBy5S",
        "outputId": "711c2535-eb29-4c7d-eda0-20e454d5b9be"
      },
      "outputs": [
        {
          "data": {
            "text/plain": [
              "0.5498281157757899"
            ]
          },
          "execution_count": 101,
          "metadata": {},
          "output_type": "execute_result"
        }
      ],
      "source": [
        "from sklearn.metrics import roc_auc_score\n",
        "auc_score = roc_auc_score(y_val, y_pred_proba)\n",
        "auc_score"
      ]
    },
    {
      "cell_type": "markdown",
      "metadata": {},
      "source": [
        "### 3) xgboost"
      ]
    },
    {
      "cell_type": "code",
      "execution_count": 102,
      "metadata": {
        "id": "QvdpQ-j9DlEj"
      },
      "outputs": [],
      "source": [
        "pipe_xgb = make_pipeline(\n",
        "    OrdinalEncoder(),\n",
        "    SimpleImputer(strategy='median'),\n",
        "    XGBClassifier(n_estimators=5000\n",
        "                  , random_state=2\n",
        "                  , n_jobs=-1\n",
        "                  , max_depth=6\n",
        "                  , learning_rate=0.2\n",
        "                 )\n",
        ")\n",
        "\n",
        "pipe_xgb.fit(X_train, y_train);"
      ]
    },
    {
      "cell_type": "code",
      "execution_count": 103,
      "metadata": {
        "id": "J4Qg-IN1DlCo"
      },
      "outputs": [
        {
          "name": "stdout",
          "output_type": "stream",
          "text": [
            "검증 정확도:  0.525\n",
            "              precision    recall  f1-score   support\n",
            "\n",
            "           0       0.45      0.43      0.44      2150\n",
            "           1       0.58      0.60      0.59      2850\n",
            "\n",
            "    accuracy                           0.53      5000\n",
            "   macro avg       0.51      0.51      0.51      5000\n",
            "weighted avg       0.52      0.53      0.52      5000\n",
            "\n"
          ]
        }
      ],
      "source": [
        "y_pred = pipe_xgb.predict(X_val)\n",
        "print('검증 정확도: ', accuracy_score(y_val, y_pred))\n",
        "\n",
        "print(classification_report(y_pred, y_val))"
      ]
    },
    {
      "cell_type": "code",
      "execution_count": 104,
      "metadata": {
        "id": "JaB_hU0gDlAq"
      },
      "outputs": [
        {
          "name": "stdout",
          "output_type": "stream",
          "text": [
            "테스트 정확도:  0.5038\n",
            "              precision    recall  f1-score   support\n",
            "\n",
            "           0       0.42      0.44      0.43      2143\n",
            "           1       0.57      0.56      0.56      2857\n",
            "\n",
            "    accuracy                           0.50      5000\n",
            "   macro avg       0.50      0.50      0.50      5000\n",
            "weighted avg       0.51      0.50      0.50      5000\n",
            "\n"
          ]
        }
      ],
      "source": [
        "y_pred = pipe_xgb.predict(X_test)\n",
        "print('테스트 정확도: ', accuracy_score(y_test, y_pred))\n",
        "\n",
        "print(classification_report(y_pred, y_test))"
      ]
    },
    {
      "cell_type": "markdown",
      "metadata": {},
      "source": [
        "전체적으로 생각한 결과 이전 경기의 스탯이라는 타겟 자체의 목적성이 불확실했으며 선수의 뎁스가 변경되거나 부상의 여지 등 여러가지 변경되는 점이 많아서 정확하지 않았다. "
      ]
    },
    {
      "cell_type": "markdown",
      "metadata": {},
      "source": [
        "처음 농구 사이트의 데이터를 통해서 선수들의 데이터를 가지고와서 그 선수가 출전하냐 안하냐의 결과와 스탯도 컬럼으로 넣어서 kaggle의 데이터와 같이 EDA를 진행을 한다면 더 관련성 있는 컬럼들을 가지고 정확도를 높일 수 있을 것 같다. \n",
        "\n",
        "https://www.basketball-reference.com/\n"
      ]
    }
  ],
  "metadata": {
    "colab": {
      "provenance": []
    },
    "kernelspec": {
      "display_name": "Python 3.9.13 ('base')",
      "language": "python",
      "name": "python3"
    },
    "language_info": {
      "codemirror_mode": {
        "name": "ipython",
        "version": 3
      },
      "file_extension": ".py",
      "mimetype": "text/x-python",
      "name": "python",
      "nbconvert_exporter": "python",
      "pygments_lexer": "ipython3",
      "version": "3.9.13"
    },
    "orig_nbformat": 4,
    "vscode": {
      "interpreter": {
        "hash": "ad2bdc8ecc057115af97d19610ffacc2b4e99fae6737bb82f5d7fb13d2f2c186"
      }
    }
  },
  "nbformat": 4,
  "nbformat_minor": 0
}
